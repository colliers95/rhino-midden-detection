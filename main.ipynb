{
  "nbformat": 4,
  "nbformat_minor": 0,
  "metadata": {
    "colab": {
      "provenance": [],
      "include_colab_link": true
    },
    "kernelspec": {
      "name": "python3",
      "display_name": "Python 3"
    },
    "language_info": {
      "name": "python"
    }
  },
  "cells": [
    {
      "cell_type": "markdown",
      "metadata": {
        "id": "view-in-github",
        "colab_type": "text"
      },
      "source": [
        "<a href=\"https://colab.research.google.com/github/colliers95/rhino-midden-detection/blob/main/main.ipynb\" target=\"_parent\"><img src=\"https://colab.research.google.com/assets/colab-badge.svg\" alt=\"Open In Colab\"/></a>"
      ]
    },
    {
      "cell_type": "code",
      "source": [
        "from google.colab import drive\n",
        "drive.mount('/content/drive')"
      ],
      "metadata": {
        "colab": {
          "base_uri": "https://localhost:8080/"
        },
        "id": "suB-5CmmpYNH",
        "outputId": "dcdcd024-ad1b-43f6-bb51-54cd6cd640dd"
      },
      "execution_count": null,
      "outputs": [
        {
          "output_type": "stream",
          "name": "stdout",
          "text": [
            "Mounted at /content/drive\n"
          ]
        }
      ]
    },
    {
      "cell_type": "code",
      "execution_count": null,
      "metadata": {
        "id": "UBVPinBBmZpz"
      },
      "outputs": [],
      "source": [
        "# Test commit"
      ]
    },
    {
      "cell_type": "code",
      "source": [
        "print(\"test commit\")"
      ],
      "metadata": {
        "colab": {
          "base_uri": "https://localhost:8080/"
        },
        "id": "64o-JiRrmknX",
        "outputId": "81a1fe5c-09e1-4fd0-c88a-886849ca239e"
      },
      "execution_count": null,
      "outputs": [
        {
          "output_type": "stream",
          "name": "stdout",
          "text": [
            "test commit\n"
          ]
        }
      ]
    },
    {
      "cell_type": "code",
      "source": [
        "print(\"second test commit\")"
      ],
      "metadata": {
        "id": "CxONCPgXmonz",
        "colab": {
          "base_uri": "https://localhost:8080/"
        },
        "outputId": "dd0cfc7d-b7ab-4091-9bbc-42473f2e36d9"
      },
      "execution_count": null,
      "outputs": [
        {
          "output_type": "stream",
          "name": "stdout",
          "text": [
            "second test commit\n"
          ]
        }
      ]
    },
    {
      "cell_type": "code",
      "source": [
        "print(\"third test commit\")"
      ],
      "metadata": {
        "id": "P0CmmstvpT8g",
        "colab": {
          "base_uri": "https://localhost:8080/"
        },
        "outputId": "6f08d9c3-a9e6-44b8-f592-db914a5e06d8"
      },
      "execution_count": null,
      "outputs": [
        {
          "output_type": "stream",
          "name": "stdout",
          "text": [
            "third test commit\n"
          ]
        }
      ]
    }
  ]
}